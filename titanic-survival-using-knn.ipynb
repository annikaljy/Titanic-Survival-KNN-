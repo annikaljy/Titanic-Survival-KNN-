{
 "cells": [
  {
   "cell_type": "code",
   "execution_count": 1,
   "id": "941ff8b1",
   "metadata": {
    "execution": {
     "iopub.execute_input": "2023-11-20T09:10:01.654328Z",
     "iopub.status.busy": "2023-11-20T09:10:01.653274Z",
     "iopub.status.idle": "2023-11-20T09:10:01.988846Z",
     "shell.execute_reply": "2023-11-20T09:10:01.987851Z"
    },
    "papermill": {
     "duration": 0.346716,
     "end_time": "2023-11-20T09:10:01.991326",
     "exception": false,
     "start_time": "2023-11-20T09:10:01.644610",
     "status": "completed"
    },
    "tags": []
   },
   "outputs": [],
   "source": [
    "import numpy as np\n",
    "import pandas as pd\n",
    "import os\n",
    "import csv\n",
    "import warnings\n",
    "warnings.filterwarnings(\"ignore\")"
   ]
  },
  {
   "cell_type": "code",
   "execution_count": 2,
   "id": "46fa6332",
   "metadata": {
    "execution": {
     "iopub.execute_input": "2023-11-20T09:10:02.005814Z",
     "iopub.status.busy": "2023-11-20T09:10:02.005368Z",
     "iopub.status.idle": "2023-11-20T09:10:02.062265Z",
     "shell.execute_reply": "2023-11-20T09:10:02.061285Z"
    },
    "papermill": {
     "duration": 0.066286,
     "end_time": "2023-11-20T09:10:02.064348",
     "exception": false,
     "start_time": "2023-11-20T09:10:01.998062",
     "status": "completed"
    },
    "tags": []
   },
   "outputs": [
    {
     "data": {
      "text/html": [
       "<div>\n",
       "<style scoped>\n",
       "    .dataframe tbody tr th:only-of-type {\n",
       "        vertical-align: middle;\n",
       "    }\n",
       "\n",
       "    .dataframe tbody tr th {\n",
       "        vertical-align: top;\n",
       "    }\n",
       "\n",
       "    .dataframe thead th {\n",
       "        text-align: right;\n",
       "    }\n",
       "</style>\n",
       "<table border=\"1\" class=\"dataframe\">\n",
       "  <thead>\n",
       "    <tr style=\"text-align: right;\">\n",
       "      <th></th>\n",
       "      <th>PassengerId</th>\n",
       "      <th>Survived</th>\n",
       "      <th>Pclass</th>\n",
       "      <th>Name</th>\n",
       "      <th>Sex</th>\n",
       "      <th>Age</th>\n",
       "      <th>SibSp</th>\n",
       "      <th>Parch</th>\n",
       "      <th>Ticket</th>\n",
       "      <th>Fare</th>\n",
       "      <th>Cabin</th>\n",
       "      <th>Embarked</th>\n",
       "    </tr>\n",
       "  </thead>\n",
       "  <tbody>\n",
       "    <tr>\n",
       "      <th>0</th>\n",
       "      <td>1</td>\n",
       "      <td>0</td>\n",
       "      <td>3</td>\n",
       "      <td>Braund, Mr. Owen Harris</td>\n",
       "      <td>male</td>\n",
       "      <td>22.0</td>\n",
       "      <td>1</td>\n",
       "      <td>0</td>\n",
       "      <td>A/5 21171</td>\n",
       "      <td>7.2500</td>\n",
       "      <td>NaN</td>\n",
       "      <td>S</td>\n",
       "    </tr>\n",
       "    <tr>\n",
       "      <th>1</th>\n",
       "      <td>2</td>\n",
       "      <td>1</td>\n",
       "      <td>1</td>\n",
       "      <td>Cumings, Mrs. John Bradley (Florence Briggs Th...</td>\n",
       "      <td>female</td>\n",
       "      <td>38.0</td>\n",
       "      <td>1</td>\n",
       "      <td>0</td>\n",
       "      <td>PC 17599</td>\n",
       "      <td>71.2833</td>\n",
       "      <td>C85</td>\n",
       "      <td>C</td>\n",
       "    </tr>\n",
       "    <tr>\n",
       "      <th>2</th>\n",
       "      <td>3</td>\n",
       "      <td>1</td>\n",
       "      <td>3</td>\n",
       "      <td>Heikkinen, Miss. Laina</td>\n",
       "      <td>female</td>\n",
       "      <td>26.0</td>\n",
       "      <td>0</td>\n",
       "      <td>0</td>\n",
       "      <td>STON/O2. 3101282</td>\n",
       "      <td>7.9250</td>\n",
       "      <td>NaN</td>\n",
       "      <td>S</td>\n",
       "    </tr>\n",
       "    <tr>\n",
       "      <th>3</th>\n",
       "      <td>4</td>\n",
       "      <td>1</td>\n",
       "      <td>1</td>\n",
       "      <td>Futrelle, Mrs. Jacques Heath (Lily May Peel)</td>\n",
       "      <td>female</td>\n",
       "      <td>35.0</td>\n",
       "      <td>1</td>\n",
       "      <td>0</td>\n",
       "      <td>113803</td>\n",
       "      <td>53.1000</td>\n",
       "      <td>C123</td>\n",
       "      <td>S</td>\n",
       "    </tr>\n",
       "    <tr>\n",
       "      <th>4</th>\n",
       "      <td>5</td>\n",
       "      <td>0</td>\n",
       "      <td>3</td>\n",
       "      <td>Allen, Mr. William Henry</td>\n",
       "      <td>male</td>\n",
       "      <td>35.0</td>\n",
       "      <td>0</td>\n",
       "      <td>0</td>\n",
       "      <td>373450</td>\n",
       "      <td>8.0500</td>\n",
       "      <td>NaN</td>\n",
       "      <td>S</td>\n",
       "    </tr>\n",
       "  </tbody>\n",
       "</table>\n",
       "</div>"
      ],
      "text/plain": [
       "   PassengerId  Survived  Pclass  \\\n",
       "0            1         0       3   \n",
       "1            2         1       1   \n",
       "2            3         1       3   \n",
       "3            4         1       1   \n",
       "4            5         0       3   \n",
       "\n",
       "                                                Name     Sex   Age  SibSp  \\\n",
       "0                            Braund, Mr. Owen Harris    male  22.0      1   \n",
       "1  Cumings, Mrs. John Bradley (Florence Briggs Th...  female  38.0      1   \n",
       "2                             Heikkinen, Miss. Laina  female  26.0      0   \n",
       "3       Futrelle, Mrs. Jacques Heath (Lily May Peel)  female  35.0      1   \n",
       "4                           Allen, Mr. William Henry    male  35.0      0   \n",
       "\n",
       "   Parch            Ticket     Fare Cabin Embarked  \n",
       "0      0         A/5 21171   7.2500   NaN        S  \n",
       "1      0          PC 17599  71.2833   C85        C  \n",
       "2      0  STON/O2. 3101282   7.9250   NaN        S  \n",
       "3      0            113803  53.1000  C123        S  \n",
       "4      0            373450   8.0500   NaN        S  "
      ]
     },
     "execution_count": 2,
     "metadata": {},
     "output_type": "execute_result"
    }
   ],
   "source": [
    "train_df = pd.read_csv(\"/kaggle/input/titanic/train.csv\")\n",
    "test_df = pd.read_csv(\"/kaggle/input/titanic/test.csv\")\n",
    "train_df.head(5)"
   ]
  },
  {
   "cell_type": "code",
   "execution_count": 3,
   "id": "9165981c",
   "metadata": {
    "execution": {
     "iopub.execute_input": "2023-11-20T09:10:02.079860Z",
     "iopub.status.busy": "2023-11-20T09:10:02.078981Z",
     "iopub.status.idle": "2023-11-20T09:10:02.085239Z",
     "shell.execute_reply": "2023-11-20T09:10:02.084251Z"
    },
    "papermill": {
     "duration": 0.016146,
     "end_time": "2023-11-20T09:10:02.087363",
     "exception": false,
     "start_time": "2023-11-20T09:10:02.071217",
     "status": "completed"
    },
    "tags": []
   },
   "outputs": [
    {
     "data": {
      "text/plain": [
       "(891, 12)"
      ]
     },
     "execution_count": 3,
     "metadata": {},
     "output_type": "execute_result"
    }
   ],
   "source": [
    "train_df.shape"
   ]
  },
  {
   "cell_type": "code",
   "execution_count": 4,
   "id": "7808dcb7",
   "metadata": {
    "execution": {
     "iopub.execute_input": "2023-11-20T09:10:02.102277Z",
     "iopub.status.busy": "2023-11-20T09:10:02.101704Z",
     "iopub.status.idle": "2023-11-20T09:10:02.108467Z",
     "shell.execute_reply": "2023-11-20T09:10:02.107739Z"
    },
    "papermill": {
     "duration": 0.016356,
     "end_time": "2023-11-20T09:10:02.110367",
     "exception": false,
     "start_time": "2023-11-20T09:10:02.094011",
     "status": "completed"
    },
    "tags": []
   },
   "outputs": [
    {
     "data": {
      "text/plain": [
       "PassengerId      int64\n",
       "Survived         int64\n",
       "Pclass           int64\n",
       "Name            object\n",
       "Sex             object\n",
       "Age            float64\n",
       "SibSp            int64\n",
       "Parch            int64\n",
       "Ticket          object\n",
       "Fare           float64\n",
       "Cabin           object\n",
       "Embarked        object\n",
       "dtype: object"
      ]
     },
     "execution_count": 4,
     "metadata": {},
     "output_type": "execute_result"
    }
   ],
   "source": [
    "train_df.dtypes"
   ]
  },
  {
   "cell_type": "code",
   "execution_count": 5,
   "id": "1b2c0bd1",
   "metadata": {
    "execution": {
     "iopub.execute_input": "2023-11-20T09:10:02.125454Z",
     "iopub.status.busy": "2023-11-20T09:10:02.124898Z",
     "iopub.status.idle": "2023-11-20T09:10:02.139172Z",
     "shell.execute_reply": "2023-11-20T09:10:02.138530Z"
    },
    "papermill": {
     "duration": 0.023994,
     "end_time": "2023-11-20T09:10:02.141099",
     "exception": false,
     "start_time": "2023-11-20T09:10:02.117105",
     "status": "completed"
    },
    "tags": []
   },
   "outputs": [],
   "source": [
    "train_df = train_df.drop('Name', axis=1,)\n",
    "train_df = train_df.drop('Ticket', axis=1,)\n",
    "train_df = train_df.drop('Fare', axis=1,)\n",
    "train_df = train_df.drop('Cabin', axis=1,)"
   ]
  },
  {
   "cell_type": "code",
   "execution_count": 6,
   "id": "6a1f6410",
   "metadata": {
    "execution": {
     "iopub.execute_input": "2023-11-20T09:10:02.156492Z",
     "iopub.status.busy": "2023-11-20T09:10:02.155909Z",
     "iopub.status.idle": "2023-11-20T09:10:03.332700Z",
     "shell.execute_reply": "2023-11-20T09:10:03.331867Z"
    },
    "papermill": {
     "duration": 1.187199,
     "end_time": "2023-11-20T09:10:03.335207",
     "exception": false,
     "start_time": "2023-11-20T09:10:02.148008",
     "status": "completed"
    },
    "tags": []
   },
   "outputs": [],
   "source": [
    "import matplotlib.pyplot as plot\n",
    "import seaborn as sns"
   ]
  },
  {
   "cell_type": "code",
   "execution_count": 7,
   "id": "7b0236ed",
   "metadata": {
    "execution": {
     "iopub.execute_input": "2023-11-20T09:10:03.351431Z",
     "iopub.status.busy": "2023-11-20T09:10:03.350899Z",
     "iopub.status.idle": "2023-11-20T09:10:03.721539Z",
     "shell.execute_reply": "2023-11-20T09:10:03.720513Z"
    },
    "papermill": {
     "duration": 0.380834,
     "end_time": "2023-11-20T09:10:03.723552",
     "exception": false,
     "start_time": "2023-11-20T09:10:03.342718",
     "status": "completed"
    },
    "tags": []
   },
   "outputs": [
    {
     "data": {
      "text/plain": [
       "<Axes: xlabel='Sex', ylabel='Survived'>"
      ]
     },
     "execution_count": 7,
     "metadata": {},
     "output_type": "execute_result"
    },
    {
     "data": {
      "image/png": "[encoded data removed]",
      "text/plain": [
       "<Figure size 640x480 with 1 Axes>"
      ]
     },
     "metadata": {},
     "output_type": "display_data"
    }
   ],
   "source": [
    "sns.barplot(data= train_df, x=\"Sex\", y =\"Survived\")"
   ]
  },
  {
   "cell_type": "code",
   "execution_count": 8,
   "id": "80605b26",
   "metadata": {
    "execution": {
     "iopub.execute_input": "2023-11-20T09:10:03.739951Z",
     "iopub.status.busy": "2023-11-20T09:10:03.739243Z",
     "iopub.status.idle": "2023-11-20T09:10:04.022505Z",
     "shell.execute_reply": "2023-11-20T09:10:04.021601Z"
    },
    "papermill": {
     "duration": 0.293533,
     "end_time": "2023-11-20T09:10:04.024555",
     "exception": false,
     "start_time": "2023-11-20T09:10:03.731022",
     "status": "completed"
    },
    "tags": []
   },
   "outputs": [
    {
     "data": {
      "text/plain": [
       "<Axes: xlabel='Embarked', ylabel='Survived'>"
      ]
     },
     "execution_count": 8,
     "metadata": {},
     "output_type": "execute_result"
    },
    {
     "data": {
      "image/png": "[encoded data removed]",
      "text/plain": [
       "<Figure size 640x480 with 1 Axes>"
      ]
     },
     "metadata": {},
     "output_type": "display_data"
    }
   ],
   "source": [
    "sns.barplot(data= train_df, x=\"Embarked\", y =\"Survived\")"
   ]
  },
  {
   "cell_type": "code",
   "execution_count": 9,
   "id": "7fb16c40",
   "metadata": {
    "execution": {
     "iopub.execute_input": "2023-11-20T09:10:04.041511Z",
     "iopub.status.busy": "2023-11-20T09:10:04.040948Z",
     "iopub.status.idle": "2023-11-20T09:10:04.326696Z",
     "shell.execute_reply": "2023-11-20T09:10:04.325651Z"
    },
    "papermill": {
     "duration": 0.296446,
     "end_time": "2023-11-20T09:10:04.328863",
     "exception": false,
     "start_time": "2023-11-20T09:10:04.032417",
     "status": "completed"
    },
    "tags": []
   },
   "outputs": [
    {
     "data": {
      "text/plain": [
       "<Axes: xlabel='Pclass', ylabel='Survived'>"
      ]
     },
     "execution_count": 9,
     "metadata": {},
     "output_type": "execute_result"
    },
    {
     "data": {
      "image/png": "[encoded data removed]",
      "text/plain": [
       "<Figure size 640x480 with 1 Axes>"
      ]
     },
     "metadata": {},
     "output_type": "display_data"
    }
   ],
   "source": [
    "sns.barplot(data= train_df, x=\"Pclass\", y =\"Survived\")"
   ]
  },
  {
   "cell_type": "code",
   "execution_count": 10,
   "id": "c8168a3b",
   "metadata": {
    "execution": {
     "iopub.execute_input": "2023-11-20T09:10:04.346903Z",
     "iopub.status.busy": "2023-11-20T09:10:04.346574Z",
     "iopub.status.idle": "2023-11-20T09:10:04.704707Z",
     "shell.execute_reply": "2023-11-20T09:10:04.703641Z"
    },
    "papermill": {
     "duration": 0.36986,
     "end_time": "2023-11-20T09:10:04.707120",
     "exception": false,
     "start_time": "2023-11-20T09:10:04.337260",
     "status": "completed"
    },
    "tags": []
   },
   "outputs": [],
   "source": [
    "from sklearn.model_selection import train_test_split\n",
    "from sklearn.neighbors import NearestNeighbors\n",
    "from sklearn.neighbors import KNeighborsClassifier\n",
    "from sklearn import metrics\n",
    "from sklearn.metrics import accuracy_score\n",
    "from sklearn.metrics import precision_recall_fscore_support\n",
    "from sklearn.model_selection import cross_val_score\n",
    "from sklearn.model_selection import KFold\n",
    "from collections import Counter\n",
    "from sklearn.model_selection import cross_validate"
   ]
  },
  {
   "cell_type": "code",
   "execution_count": 11,
   "id": "dcb4a4c6",
   "metadata": {
    "execution": {
     "iopub.execute_input": "2023-11-20T09:10:04.724658Z",
     "iopub.status.busy": "2023-11-20T09:10:04.724306Z",
     "iopub.status.idle": "2023-11-20T09:10:04.730835Z",
     "shell.execute_reply": "2023-11-20T09:10:04.729931Z"
    },
    "papermill": {
     "duration": 0.017374,
     "end_time": "2023-11-20T09:10:04.732738",
     "exception": false,
     "start_time": "2023-11-20T09:10:04.715364",
     "status": "completed"
    },
    "tags": []
   },
   "outputs": [
    {
     "data": {
      "text/plain": [
       "2"
      ]
     },
     "execution_count": 11,
     "metadata": {},
     "output_type": "execute_result"
    }
   ],
   "source": [
    "train_df['Embarked'].isna().sum()"
   ]
  },
  {
   "cell_type": "code",
   "execution_count": 12,
   "id": "f60b7aea",
   "metadata": {
    "execution": {
     "iopub.execute_input": "2023-11-20T09:10:04.749700Z",
     "iopub.status.busy": "2023-11-20T09:10:04.749383Z",
     "iopub.status.idle": "2023-11-20T09:10:04.754934Z",
     "shell.execute_reply": "2023-11-20T09:10:04.754040Z"
    },
    "papermill": {
     "duration": 0.016044,
     "end_time": "2023-11-20T09:10:04.756735",
     "exception": false,
     "start_time": "2023-11-20T09:10:04.740691",
     "status": "completed"
    },
    "tags": []
   },
   "outputs": [],
   "source": [
    "train_df[\"Embarked\"] = train_df[\"Embarked\"].fillna(\"S\")"
   ]
  },
  {
   "cell_type": "code",
   "execution_count": 13,
   "id": "8ddf75e6",
   "metadata": {
    "execution": {
     "iopub.execute_input": "2023-11-20T09:10:04.774260Z",
     "iopub.status.busy": "2023-11-20T09:10:04.773527Z",
     "iopub.status.idle": "2023-11-20T09:10:04.778830Z",
     "shell.execute_reply": "2023-11-20T09:10:04.778187Z"
    },
    "papermill": {
     "duration": 0.015584,
     "end_time": "2023-11-20T09:10:04.780441",
     "exception": false,
     "start_time": "2023-11-20T09:10:04.764857",
     "status": "completed"
    },
    "tags": []
   },
   "outputs": [],
   "source": [
    "train_df.Embarked.replace(['S', 'C', 'Q'], [1, 2, 3], inplace=True)"
   ]
  },
  {
   "cell_type": "code",
   "execution_count": 14,
   "id": "b45da846",
   "metadata": {
    "execution": {
     "iopub.execute_input": "2023-11-20T09:10:04.798162Z",
     "iopub.status.busy": "2023-11-20T09:10:04.797351Z",
     "iopub.status.idle": "2023-11-20T09:10:04.803878Z",
     "shell.execute_reply": "2023-11-20T09:10:04.803053Z"
    },
    "papermill": {
     "duration": 0.017261,
     "end_time": "2023-11-20T09:10:04.805774",
     "exception": false,
     "start_time": "2023-11-20T09:10:04.788513",
     "status": "completed"
    },
    "tags": []
   },
   "outputs": [
    {
     "data": {
      "text/plain": [
       "177"
      ]
     },
     "execution_count": 14,
     "metadata": {},
     "output_type": "execute_result"
    }
   ],
   "source": [
    "train_df['Age'].isna().sum()"
   ]
  },
  {
   "cell_type": "code",
   "execution_count": 15,
   "id": "9bd0309f",
   "metadata": {
    "execution": {
     "iopub.execute_input": "2023-11-20T09:10:04.823096Z",
     "iopub.status.busy": "2023-11-20T09:10:04.822830Z",
     "iopub.status.idle": "2023-11-20T09:10:04.828001Z",
     "shell.execute_reply": "2023-11-20T09:10:04.827085Z"
    },
    "papermill": {
     "duration": 0.015986,
     "end_time": "2023-11-20T09:10:04.829840",
     "exception": false,
     "start_time": "2023-11-20T09:10:04.813854",
     "status": "completed"
    },
    "tags": []
   },
   "outputs": [],
   "source": [
    "train_df[\"Age\"] = train_df[\"Age\"].fillna(train_df[\"Age\"].median())"
   ]
  },
  {
   "cell_type": "code",
   "execution_count": 16,
   "id": "f29f2f50",
   "metadata": {
    "execution": {
     "iopub.execute_input": "2023-11-20T09:10:04.847559Z",
     "iopub.status.busy": "2023-11-20T09:10:04.847096Z",
     "iopub.status.idle": "2023-11-20T09:10:04.852242Z",
     "shell.execute_reply": "2023-11-20T09:10:04.851606Z"
    },
    "papermill": {
     "duration": 0.016007,
     "end_time": "2023-11-20T09:10:04.854013",
     "exception": false,
     "start_time": "2023-11-20T09:10:04.838006",
     "status": "completed"
    },
    "tags": []
   },
   "outputs": [],
   "source": [
    "train_df.Sex.replace(['male', 'female'], [1,0], inplace = True)"
   ]
  },
  {
   "cell_type": "code",
   "execution_count": 17,
   "id": "51bf7982",
   "metadata": {
    "execution": {
     "iopub.execute_input": "2023-11-20T09:10:04.871684Z",
     "iopub.status.busy": "2023-11-20T09:10:04.871192Z",
     "iopub.status.idle": "2023-11-20T09:10:04.882063Z",
     "shell.execute_reply": "2023-11-20T09:10:04.881170Z"
    },
    "papermill": {
     "duration": 0.021734,
     "end_time": "2023-11-20T09:10:04.883843",
     "exception": false,
     "start_time": "2023-11-20T09:10:04.862109",
     "status": "completed"
    },
    "tags": []
   },
   "outputs": [
    {
     "data": {
      "text/html": [
       "<div>\n",
       "<style scoped>\n",
       "    .dataframe tbody tr th:only-of-type {\n",
       "        vertical-align: middle;\n",
       "    }\n",
       "\n",
       "    .dataframe tbody tr th {\n",
       "        vertical-align: top;\n",
       "    }\n",
       "\n",
       "    .dataframe thead th {\n",
       "        text-align: right;\n",
       "    }\n",
       "</style>\n",
       "<table border=\"1\" class=\"dataframe\">\n",
       "  <thead>\n",
       "    <tr style=\"text-align: right;\">\n",
       "      <th></th>\n",
       "      <th>PassengerId</th>\n",
       "      <th>Survived</th>\n",
       "      <th>Pclass</th>\n",
       "      <th>Sex</th>\n",
       "      <th>Age</th>\n",
       "      <th>SibSp</th>\n",
       "      <th>Parch</th>\n",
       "      <th>Embarked</th>\n",
       "    </tr>\n",
       "  </thead>\n",
       "  <tbody>\n",
       "    <tr>\n",
       "      <th>0</th>\n",
       "      <td>1</td>\n",
       "      <td>0</td>\n",
       "      <td>3</td>\n",
       "      <td>1</td>\n",
       "      <td>22.0</td>\n",
       "      <td>1</td>\n",
       "      <td>0</td>\n",
       "      <td>1</td>\n",
       "    </tr>\n",
       "    <tr>\n",
       "      <th>1</th>\n",
       "      <td>2</td>\n",
       "      <td>1</td>\n",
       "      <td>1</td>\n",
       "      <td>0</td>\n",
       "      <td>38.0</td>\n",
       "      <td>1</td>\n",
       "      <td>0</td>\n",
       "      <td>2</td>\n",
       "    </tr>\n",
       "    <tr>\n",
       "      <th>2</th>\n",
       "      <td>3</td>\n",
       "      <td>1</td>\n",
       "      <td>3</td>\n",
       "      <td>0</td>\n",
       "      <td>26.0</td>\n",
       "      <td>0</td>\n",
       "      <td>0</td>\n",
       "      <td>1</td>\n",
       "    </tr>\n",
       "    <tr>\n",
       "      <th>3</th>\n",
       "      <td>4</td>\n",
       "      <td>1</td>\n",
       "      <td>1</td>\n",
       "      <td>0</td>\n",
       "      <td>35.0</td>\n",
       "      <td>1</td>\n",
       "      <td>0</td>\n",
       "      <td>1</td>\n",
       "    </tr>\n",
       "    <tr>\n",
       "      <th>4</th>\n",
       "      <td>5</td>\n",
       "      <td>0</td>\n",
       "      <td>3</td>\n",
       "      <td>1</td>\n",
       "      <td>35.0</td>\n",
       "      <td>0</td>\n",
       "      <td>0</td>\n",
       "      <td>1</td>\n",
       "    </tr>\n",
       "  </tbody>\n",
       "</table>\n",
       "</div>"
      ],
      "text/plain": [
       "   PassengerId  Survived  Pclass  Sex   Age  SibSp  Parch  Embarked\n",
       "0            1         0       3    1  22.0      1      0         1\n",
       "1            2         1       1    0  38.0      1      0         2\n",
       "2            3         1       3    0  26.0      0      0         1\n",
       "3            4         1       1    0  35.0      1      0         1\n",
       "4            5         0       3    1  35.0      0      0         1"
      ]
     },
     "execution_count": 17,
     "metadata": {},
     "output_type": "execute_result"
    }
   ],
   "source": [
    "train_df.head(5)"
   ]
  },
  {
   "cell_type": "code",
   "execution_count": 18,
   "id": "30d9bf6f",
   "metadata": {
    "execution": {
     "iopub.execute_input": "2023-11-20T09:10:04.901858Z",
     "iopub.status.busy": "2023-11-20T09:10:04.901342Z",
     "iopub.status.idle": "2023-11-20T09:10:04.906612Z",
     "shell.execute_reply": "2023-11-20T09:10:04.905978Z"
    },
    "papermill": {
     "duration": 0.016289,
     "end_time": "2023-11-20T09:10:04.908438",
     "exception": false,
     "start_time": "2023-11-20T09:10:04.892149",
     "status": "completed"
    },
    "tags": []
   },
   "outputs": [],
   "source": [
    "X = np.array(train_df.filter(['Pclass','Sex','Embarked','SipSp', 'Parch', 'Age'], axis=1))"
   ]
  },
  {
   "cell_type": "code",
   "execution_count": 19,
   "id": "7aa3c7a8",
   "metadata": {
    "execution": {
     "iopub.execute_input": "2023-11-20T09:10:04.926459Z",
     "iopub.status.busy": "2023-11-20T09:10:04.925991Z",
     "iopub.status.idle": "2023-11-20T09:10:04.930504Z",
     "shell.execute_reply": "2023-11-20T09:10:04.929881Z"
    },
    "papermill": {
     "duration": 0.015479,
     "end_time": "2023-11-20T09:10:04.932287",
     "exception": false,
     "start_time": "2023-11-20T09:10:04.916808",
     "status": "completed"
    },
    "tags": []
   },
   "outputs": [],
   "source": [
    "y = np.array(train_df.filter(['Survived'], axis=1))"
   ]
  },
  {
   "cell_type": "code",
   "execution_count": 20,
   "id": "c225a8f1",
   "metadata": {
    "execution": {
     "iopub.execute_input": "2023-11-20T09:10:04.950331Z",
     "iopub.status.busy": "2023-11-20T09:10:04.949848Z",
     "iopub.status.idle": "2023-11-20T09:10:04.955010Z",
     "shell.execute_reply": "2023-11-20T09:10:04.954369Z"
    },
    "papermill": {
     "duration": 0.016272,
     "end_time": "2023-11-20T09:10:04.956781",
     "exception": false,
     "start_time": "2023-11-20T09:10:04.940509",
     "status": "completed"
    },
    "tags": []
   },
   "outputs": [],
   "source": [
    "X_1, X_test, y_1, y_test = train_test_split(X,y, test_size=0.2)\n",
    "X_tr, X_cv, y_tr, y_cv = train_test_split(X_1, y_1, test_size=0.2)"
   ]
  },
  {
   "cell_type": "code",
   "execution_count": 21,
   "id": "2c1f9793",
   "metadata": {
    "execution": {
     "iopub.execute_input": "2023-11-20T09:10:04.974646Z",
     "iopub.status.busy": "2023-11-20T09:10:04.974168Z",
     "iopub.status.idle": "2023-11-20T09:10:05.129509Z",
     "shell.execute_reply": "2023-11-20T09:10:05.128779Z"
    },
    "papermill": {
     "duration": 0.166634,
     "end_time": "2023-11-20T09:10:05.131612",
     "exception": false,
     "start_time": "2023-11-20T09:10:04.964978",
     "status": "completed"
    },
    "tags": []
   },
   "outputs": [],
   "source": [
    "final_scores = []\n",
    "for i in range(1,30,2):\n",
    "    knn = KNeighborsClassifier(n_neighbors = i)\n",
    "    knn.fit(X_tr, y_tr)\n",
    "    pred = knn.predict(X_cv)\n",
    "    acc = accuracy_score(y_cv, pred, normalize=True) * float(100)\n",
    "    final_scores.append(acc)\n",
    "    "
   ]
  },
  {
   "cell_type": "code",
   "execution_count": 22,
   "id": "45a5e520",
   "metadata": {
    "execution": {
     "iopub.execute_input": "2023-11-20T09:10:05.150204Z",
     "iopub.status.busy": "2023-11-20T09:10:05.149698Z",
     "iopub.status.idle": "2023-11-20T09:10:05.155109Z",
     "shell.execute_reply": "2023-11-20T09:10:05.154122Z"
    },
    "papermill": {
     "duration": 0.016615,
     "end_time": "2023-11-20T09:10:05.156912",
     "exception": false,
     "start_time": "2023-11-20T09:10:05.140297",
     "status": "completed"
    },
    "tags": []
   },
   "outputs": [
    {
     "name": "stdout",
     "output_type": "stream",
     "text": [
      "3\n"
     ]
    }
   ],
   "source": [
    "optimal_k = final_scores.index(max(final_scores))\n",
    "print(optimal_k)\n"
   ]
  },
  {
   "cell_type": "code",
   "execution_count": 23,
   "id": "9a692aec",
   "metadata": {
    "execution": {
     "iopub.execute_input": "2023-11-20T09:10:05.174679Z",
     "iopub.status.busy": "2023-11-20T09:10:05.174381Z",
     "iopub.status.idle": "2023-11-20T09:10:05.186171Z",
     "shell.execute_reply": "2023-11-20T09:10:05.185261Z"
    },
    "papermill": {
     "duration": 0.023012,
     "end_time": "2023-11-20T09:10:05.188179",
     "exception": false,
     "start_time": "2023-11-20T09:10:05.165167",
     "status": "completed"
    },
    "tags": []
   },
   "outputs": [],
   "source": [
    "df_test = pd.read_csv('../input/titanic/test.csv')\n",
    "df_test = df_test.drop('Name', axis=1,)\n",
    "df_test = df_test.drop('Ticket', axis=1,)\n",
    "df_test = df_test.drop('Fare', axis=1,)\n",
    "df_test = df_test.drop('Cabin', axis=1,)\n",
    "df_test[\"Age\"] = df_test[\"Age\"].fillna(train_df[\"Age\"].median())\n"
   ]
  },
  {
   "cell_type": "code",
   "execution_count": 24,
   "id": "719f8649",
   "metadata": {
    "execution": {
     "iopub.execute_input": "2023-11-20T09:10:05.205856Z",
     "iopub.status.busy": "2023-11-20T09:10:05.205556Z",
     "iopub.status.idle": "2023-11-20T09:10:05.226293Z",
     "shell.execute_reply": "2023-11-20T09:10:05.225347Z"
    },
    "papermill": {
     "duration": 0.031715,
     "end_time": "2023-11-20T09:10:05.228176",
     "exception": false,
     "start_time": "2023-11-20T09:10:05.196461",
     "status": "completed"
    },
    "tags": []
   },
   "outputs": [
    {
     "data": {
      "text/html": [
       "<div>\n",
       "<style scoped>\n",
       "    .dataframe tbody tr th:only-of-type {\n",
       "        vertical-align: middle;\n",
       "    }\n",
       "\n",
       "    .dataframe tbody tr th {\n",
       "        vertical-align: top;\n",
       "    }\n",
       "\n",
       "    .dataframe thead th {\n",
       "        text-align: right;\n",
       "    }\n",
       "</style>\n",
       "<table border=\"1\" class=\"dataframe\">\n",
       "  <thead>\n",
       "    <tr style=\"text-align: right;\">\n",
       "      <th></th>\n",
       "      <th>PassengerId</th>\n",
       "      <th>Pclass</th>\n",
       "      <th>Name</th>\n",
       "      <th>Sex</th>\n",
       "      <th>Age</th>\n",
       "      <th>SibSp</th>\n",
       "      <th>Parch</th>\n",
       "      <th>Ticket</th>\n",
       "      <th>Fare</th>\n",
       "      <th>Cabin</th>\n",
       "      <th>Embarked</th>\n",
       "    </tr>\n",
       "  </thead>\n",
       "  <tbody>\n",
       "    <tr>\n",
       "      <th>0</th>\n",
       "      <td>892</td>\n",
       "      <td>3</td>\n",
       "      <td>Kelly, Mr. James</td>\n",
       "      <td>male</td>\n",
       "      <td>34.5</td>\n",
       "      <td>0</td>\n",
       "      <td>0</td>\n",
       "      <td>330911</td>\n",
       "      <td>7.8292</td>\n",
       "      <td>NaN</td>\n",
       "      <td>Q</td>\n",
       "    </tr>\n",
       "    <tr>\n",
       "      <th>1</th>\n",
       "      <td>893</td>\n",
       "      <td>3</td>\n",
       "      <td>Wilkes, Mrs. James (Ellen Needs)</td>\n",
       "      <td>female</td>\n",
       "      <td>47.0</td>\n",
       "      <td>1</td>\n",
       "      <td>0</td>\n",
       "      <td>363272</td>\n",
       "      <td>7.0000</td>\n",
       "      <td>NaN</td>\n",
       "      <td>S</td>\n",
       "    </tr>\n",
       "    <tr>\n",
       "      <th>2</th>\n",
       "      <td>894</td>\n",
       "      <td>2</td>\n",
       "      <td>Myles, Mr. Thomas Francis</td>\n",
       "      <td>male</td>\n",
       "      <td>62.0</td>\n",
       "      <td>0</td>\n",
       "      <td>0</td>\n",
       "      <td>240276</td>\n",
       "      <td>9.6875</td>\n",
       "      <td>NaN</td>\n",
       "      <td>Q</td>\n",
       "    </tr>\n",
       "    <tr>\n",
       "      <th>3</th>\n",
       "      <td>895</td>\n",
       "      <td>3</td>\n",
       "      <td>Wirz, Mr. Albert</td>\n",
       "      <td>male</td>\n",
       "      <td>27.0</td>\n",
       "      <td>0</td>\n",
       "      <td>0</td>\n",
       "      <td>315154</td>\n",
       "      <td>8.6625</td>\n",
       "      <td>NaN</td>\n",
       "      <td>S</td>\n",
       "    </tr>\n",
       "    <tr>\n",
       "      <th>4</th>\n",
       "      <td>896</td>\n",
       "      <td>3</td>\n",
       "      <td>Hirvonen, Mrs. Alexander (Helga E Lindqvist)</td>\n",
       "      <td>female</td>\n",
       "      <td>22.0</td>\n",
       "      <td>1</td>\n",
       "      <td>1</td>\n",
       "      <td>3101298</td>\n",
       "      <td>12.2875</td>\n",
       "      <td>NaN</td>\n",
       "      <td>S</td>\n",
       "    </tr>\n",
       "    <tr>\n",
       "      <th>...</th>\n",
       "      <td>...</td>\n",
       "      <td>...</td>\n",
       "      <td>...</td>\n",
       "      <td>...</td>\n",
       "      <td>...</td>\n",
       "      <td>...</td>\n",
       "      <td>...</td>\n",
       "      <td>...</td>\n",
       "      <td>...</td>\n",
       "      <td>...</td>\n",
       "      <td>...</td>\n",
       "    </tr>\n",
       "    <tr>\n",
       "      <th>413</th>\n",
       "      <td>1305</td>\n",
       "      <td>3</td>\n",
       "      <td>Spector, Mr. Woolf</td>\n",
       "      <td>male</td>\n",
       "      <td>NaN</td>\n",
       "      <td>0</td>\n",
       "      <td>0</td>\n",
       "      <td>A.5. 3236</td>\n",
       "      <td>8.0500</td>\n",
       "      <td>NaN</td>\n",
       "      <td>S</td>\n",
       "    </tr>\n",
       "    <tr>\n",
       "      <th>414</th>\n",
       "      <td>1306</td>\n",
       "      <td>1</td>\n",
       "      <td>Oliva y Ocana, Dona. Fermina</td>\n",
       "      <td>female</td>\n",
       "      <td>39.0</td>\n",
       "      <td>0</td>\n",
       "      <td>0</td>\n",
       "      <td>PC 17758</td>\n",
       "      <td>108.9000</td>\n",
       "      <td>C105</td>\n",
       "      <td>C</td>\n",
       "    </tr>\n",
       "    <tr>\n",
       "      <th>415</th>\n",
       "      <td>1307</td>\n",
       "      <td>3</td>\n",
       "      <td>Saether, Mr. Simon Sivertsen</td>\n",
       "      <td>male</td>\n",
       "      <td>38.5</td>\n",
       "      <td>0</td>\n",
       "      <td>0</td>\n",
       "      <td>SOTON/O.Q. 3101262</td>\n",
       "      <td>7.2500</td>\n",
       "      <td>NaN</td>\n",
       "      <td>S</td>\n",
       "    </tr>\n",
       "    <tr>\n",
       "      <th>416</th>\n",
       "      <td>1308</td>\n",
       "      <td>3</td>\n",
       "      <td>Ware, Mr. Frederick</td>\n",
       "      <td>male</td>\n",
       "      <td>NaN</td>\n",
       "      <td>0</td>\n",
       "      <td>0</td>\n",
       "      <td>359309</td>\n",
       "      <td>8.0500</td>\n",
       "      <td>NaN</td>\n",
       "      <td>S</td>\n",
       "    </tr>\n",
       "    <tr>\n",
       "      <th>417</th>\n",
       "      <td>1309</td>\n",
       "      <td>3</td>\n",
       "      <td>Peter, Master. Michael J</td>\n",
       "      <td>male</td>\n",
       "      <td>NaN</td>\n",
       "      <td>1</td>\n",
       "      <td>1</td>\n",
       "      <td>2668</td>\n",
       "      <td>22.3583</td>\n",
       "      <td>NaN</td>\n",
       "      <td>C</td>\n",
       "    </tr>\n",
       "  </tbody>\n",
       "</table>\n",
       "<p>418 rows × 11 columns</p>\n",
       "</div>"
      ],
      "text/plain": [
       "     PassengerId  Pclass                                          Name  \\\n",
       "0            892       3                              Kelly, Mr. James   \n",
       "1            893       3              Wilkes, Mrs. James (Ellen Needs)   \n",
       "2            894       2                     Myles, Mr. Thomas Francis   \n",
       "3            895       3                              Wirz, Mr. Albert   \n",
       "4            896       3  Hirvonen, Mrs. Alexander (Helga E Lindqvist)   \n",
       "..           ...     ...                                           ...   \n",
       "413         1305       3                            Spector, Mr. Woolf   \n",
       "414         1306       1                  Oliva y Ocana, Dona. Fermina   \n",
       "415         1307       3                  Saether, Mr. Simon Sivertsen   \n",
       "416         1308       3                           Ware, Mr. Frederick   \n",
       "417         1309       3                      Peter, Master. Michael J   \n",
       "\n",
       "        Sex   Age  SibSp  Parch              Ticket      Fare Cabin Embarked  \n",
       "0      male  34.5      0      0              330911    7.8292   NaN        Q  \n",
       "1    female  47.0      1      0              363272    7.0000   NaN        S  \n",
       "2      male  62.0      0      0              240276    9.6875   NaN        Q  \n",
       "3      male  27.0      0      0              315154    8.6625   NaN        S  \n",
       "4    female  22.0      1      1             3101298   12.2875   NaN        S  \n",
       "..      ...   ...    ...    ...                 ...       ...   ...      ...  \n",
       "413    male   NaN      0      0           A.5. 3236    8.0500   NaN        S  \n",
       "414  female  39.0      0      0            PC 17758  108.9000  C105        C  \n",
       "415    male  38.5      0      0  SOTON/O.Q. 3101262    7.2500   NaN        S  \n",
       "416    male   NaN      0      0              359309    8.0500   NaN        S  \n",
       "417    male   NaN      1      1                2668   22.3583   NaN        C  \n",
       "\n",
       "[418 rows x 11 columns]"
      ]
     },
     "execution_count": 24,
     "metadata": {},
     "output_type": "execute_result"
    }
   ],
   "source": [
    "df_test1 = pd.read_csv('../input/titanic/test.csv')\n",
    "df_test1"
   ]
  },
  {
   "cell_type": "code",
   "execution_count": 25,
   "id": "55288449",
   "metadata": {
    "execution": {
     "iopub.execute_input": "2023-11-20T09:10:05.246895Z",
     "iopub.status.busy": "2023-11-20T09:10:05.246622Z",
     "iopub.status.idle": "2023-11-20T09:10:05.256454Z",
     "shell.execute_reply": "2023-11-20T09:10:05.255614Z"
    },
    "papermill": {
     "duration": 0.021504,
     "end_time": "2023-11-20T09:10:05.258533",
     "exception": false,
     "start_time": "2023-11-20T09:10:05.237029",
     "status": "completed"
    },
    "tags": []
   },
   "outputs": [
    {
     "name": "stdout",
     "output_type": "stream",
     "text": [
      "0    S\n",
      "Name: Embarked, dtype: object\n"
     ]
    }
   ],
   "source": [
    "print(df_test[\"Embarked\"].mode())\n",
    "df_test[\"Embarked\"] = df_test[\"Embarked\"].fillna(\"S\")\n",
    "df_test.Embarked.replace(['S', 'C', 'Q'], [1, 2, 3], inplace=True)\n",
    "df_test.Sex.replace(['male', 'female'], [1,0], inplace=True)"
   ]
  },
  {
   "cell_type": "code",
   "execution_count": 26,
   "id": "5c31f0e3",
   "metadata": {
    "execution": {
     "iopub.execute_input": "2023-11-20T09:10:05.277363Z",
     "iopub.status.busy": "2023-11-20T09:10:05.277086Z",
     "iopub.status.idle": "2023-11-20T09:10:05.312239Z",
     "shell.execute_reply": "2023-11-20T09:10:05.311096Z"
    },
    "papermill": {
     "duration": 0.046971,
     "end_time": "2023-11-20T09:10:05.314312",
     "exception": false,
     "start_time": "2023-11-20T09:10:05.267341",
     "status": "completed"
    },
    "tags": []
   },
   "outputs": [
    {
     "name": "stdout",
     "output_type": "stream",
     "text": [
      "[0 0 0 1 1 0 0 0 0 0 0 0 1 1 0 1 1 0 1 1 0 1 1 0 1 0 1 0 1 0 0 0 1 0 0 0 0\n",
      " 0 0 0 0 1 0 1 0 0 0 0 1 0 0 0 0 0 0 0 0 0 0 1 0 0 0 1 1 1 0 0 0 0 0 0 0 0\n",
      " 1 1 0 0 0 0 1 0 1 0 0 0 1 0 1 0 1 0 1 0 1 0 0 0 0 0 1 0 0 0 1 0 1 0 0 0 0\n",
      " 1 1 0 1 0 0 1 1 1 1 0 1 0 0 0 0 1 0 0 1 1 0 0 0 0 0 0 0 0 0 1 0 0 0 0 1 0\n",
      " 1 0 1 0 0 0 0 0 0 0 0 1 1 0 1 0 0 0 1 0 1 1 0 0 0 0 0 1 0 1 1 0 0 1 1 0 1\n",
      " 0 0 0 0 0 0 1 0 1 1 0 1 0 0 0 1 0 0 1 0 0 0 0 1 0 1 0 0 0 0 0 1 0 1 0 1 0\n",
      " 1 0 1 0 0 1 0 0 0 1 0 0 0 0 0 0 1 1 1 1 0 0 0 1 1 0 1 0 1 0 1 0 1 0 0 0 1\n",
      " 0 0 0 0 1 0 0 1 0 0 0 0 0 1 1 0 0 0 0 0 0 0 1 1 0 0 0 0 0 0 0 1 0 0 0 0 0\n",
      " 1 0 0 0 1 0 0 0 1 1 1 1 0 1 0 0 0 0 1 0 1 0 1 0 0 0 0 1 1 0 1 0 0 0 1 0 0\n",
      " 1 1 0 0 0 0 0 0 1 0 0 1 0 0 0 0 1 1 0 0 0 1 0 1 0 0 0 0 1 1 1 1 0 0 1 1 0\n",
      " 0 1 1 0 0 0 1 0 0 1 0 0 0 0 0 1 0 0 1 0 0 1 0 0 0 1 0 1 0 0 1 0 1 0 1 1 0\n",
      " 1 1 0 1 0 0 0 1 0 0 0]\n"
     ]
    }
   ],
   "source": [
    "X_test = np.array(df_test.filter(['Pclass','Sex','Embarked','SipSp','Parch','Age'], axis=1))\n",
    "knn = KNeighborsClassifier(n_neighbors = optimal_k)\n",
    "knn.fit(X_tr, y_tr)\n",
    "pred = knn.predict(X_test)\n",
    "print(pred)"
   ]
  },
  {
   "cell_type": "code",
   "execution_count": 27,
   "id": "33072385",
   "metadata": {
    "execution": {
     "iopub.execute_input": "2023-11-20T09:10:05.333374Z",
     "iopub.status.busy": "2023-11-20T09:10:05.333103Z",
     "iopub.status.idle": "2023-11-20T09:10:05.337668Z",
     "shell.execute_reply": "2023-11-20T09:10:05.336768Z"
    },
    "papermill": {
     "duration": 0.016252,
     "end_time": "2023-11-20T09:10:05.339481",
     "exception": false,
     "start_time": "2023-11-20T09:10:05.323229",
     "status": "completed"
    },
    "tags": []
   },
   "outputs": [],
   "source": [
    "df_test['Survived'] = pd.Series(pred, index=df_test.index)"
   ]
  },
  {
   "cell_type": "code",
   "execution_count": 28,
   "id": "097b88b5",
   "metadata": {
    "execution": {
     "iopub.execute_input": "2023-11-20T09:10:05.358251Z",
     "iopub.status.busy": "2023-11-20T09:10:05.357981Z",
     "iopub.status.idle": "2023-11-20T09:10:05.368860Z",
     "shell.execute_reply": "2023-11-20T09:10:05.367868Z"
    },
    "papermill": {
     "duration": 0.022324,
     "end_time": "2023-11-20T09:10:05.370828",
     "exception": false,
     "start_time": "2023-11-20T09:10:05.348504",
     "status": "completed"
    },
    "tags": []
   },
   "outputs": [
    {
     "data": {
      "text/html": [
       "<div>\n",
       "<style scoped>\n",
       "    .dataframe tbody tr th:only-of-type {\n",
       "        vertical-align: middle;\n",
       "    }\n",
       "\n",
       "    .dataframe tbody tr th {\n",
       "        vertical-align: top;\n",
       "    }\n",
       "\n",
       "    .dataframe thead th {\n",
       "        text-align: right;\n",
       "    }\n",
       "</style>\n",
       "<table border=\"1\" class=\"dataframe\">\n",
       "  <thead>\n",
       "    <tr style=\"text-align: right;\">\n",
       "      <th></th>\n",
       "      <th>PassengerId</th>\n",
       "      <th>Pclass</th>\n",
       "      <th>Sex</th>\n",
       "      <th>Age</th>\n",
       "      <th>SibSp</th>\n",
       "      <th>Parch</th>\n",
       "      <th>Embarked</th>\n",
       "      <th>Survived</th>\n",
       "    </tr>\n",
       "  </thead>\n",
       "  <tbody>\n",
       "    <tr>\n",
       "      <th>0</th>\n",
       "      <td>892</td>\n",
       "      <td>3</td>\n",
       "      <td>1</td>\n",
       "      <td>34.5</td>\n",
       "      <td>0</td>\n",
       "      <td>0</td>\n",
       "      <td>3</td>\n",
       "      <td>0</td>\n",
       "    </tr>\n",
       "    <tr>\n",
       "      <th>1</th>\n",
       "      <td>893</td>\n",
       "      <td>3</td>\n",
       "      <td>0</td>\n",
       "      <td>47.0</td>\n",
       "      <td>1</td>\n",
       "      <td>0</td>\n",
       "      <td>1</td>\n",
       "      <td>0</td>\n",
       "    </tr>\n",
       "    <tr>\n",
       "      <th>2</th>\n",
       "      <td>894</td>\n",
       "      <td>2</td>\n",
       "      <td>1</td>\n",
       "      <td>62.0</td>\n",
       "      <td>0</td>\n",
       "      <td>0</td>\n",
       "      <td>3</td>\n",
       "      <td>0</td>\n",
       "    </tr>\n",
       "    <tr>\n",
       "      <th>3</th>\n",
       "      <td>895</td>\n",
       "      <td>3</td>\n",
       "      <td>1</td>\n",
       "      <td>27.0</td>\n",
       "      <td>0</td>\n",
       "      <td>0</td>\n",
       "      <td>1</td>\n",
       "      <td>1</td>\n",
       "    </tr>\n",
       "    <tr>\n",
       "      <th>4</th>\n",
       "      <td>896</td>\n",
       "      <td>3</td>\n",
       "      <td>0</td>\n",
       "      <td>22.0</td>\n",
       "      <td>1</td>\n",
       "      <td>1</td>\n",
       "      <td>1</td>\n",
       "      <td>1</td>\n",
       "    </tr>\n",
       "  </tbody>\n",
       "</table>\n",
       "</div>"
      ],
      "text/plain": [
       "   PassengerId  Pclass  Sex   Age  SibSp  Parch  Embarked  Survived\n",
       "0          892       3    1  34.5      0      0         3         0\n",
       "1          893       3    0  47.0      1      0         1         0\n",
       "2          894       2    1  62.0      0      0         3         0\n",
       "3          895       3    1  27.0      0      0         1         1\n",
       "4          896       3    0  22.0      1      1         1         1"
      ]
     },
     "execution_count": 28,
     "metadata": {},
     "output_type": "execute_result"
    }
   ],
   "source": [
    "df_test.head()"
   ]
  },
  {
   "cell_type": "code",
   "execution_count": 29,
   "id": "cc09ff4f",
   "metadata": {
    "execution": {
     "iopub.execute_input": "2023-11-20T09:10:05.390329Z",
     "iopub.status.busy": "2023-11-20T09:10:05.389817Z",
     "iopub.status.idle": "2023-11-20T09:10:05.396321Z",
     "shell.execute_reply": "2023-11-20T09:10:05.395424Z"
    },
    "papermill": {
     "duration": 0.018358,
     "end_time": "2023-11-20T09:10:05.398258",
     "exception": false,
     "start_time": "2023-11-20T09:10:05.379900",
     "status": "completed"
    },
    "tags": []
   },
   "outputs": [
    {
     "data": {
      "text/plain": [
       "(418, 2)"
      ]
     },
     "execution_count": 29,
     "metadata": {},
     "output_type": "execute_result"
    }
   ],
   "source": [
    "final_df = df_test.filter(['PassengerId','Survived'], axis=1)\n",
    "final_df.shape"
   ]
  },
  {
   "cell_type": "code",
   "execution_count": 30,
   "id": "653cfc0b",
   "metadata": {
    "execution": {
     "iopub.execute_input": "2023-11-20T09:10:05.418070Z",
     "iopub.status.busy": "2023-11-20T09:10:05.417612Z",
     "iopub.status.idle": "2023-11-20T09:10:05.424495Z",
     "shell.execute_reply": "2023-11-20T09:10:05.423796Z"
    },
    "papermill": {
     "duration": 0.018899,
     "end_time": "2023-11-20T09:10:05.426532",
     "exception": false,
     "start_time": "2023-11-20T09:10:05.407633",
     "status": "completed"
    },
    "tags": []
   },
   "outputs": [],
   "source": [
    "final_df.to_csv(\"titanic_pred.csv\", encoding='utf-8')"
   ]
  }
 ],
 "metadata": {
  "kaggle": {
   "accelerator": "none",
   "dataSources": [
    {
     "databundleVersionId": 26502,
     "sourceId": 3136,
     "sourceType": "competition"
    }
   ],
   "dockerImageVersionId": 30587,
   "isGpuEnabled": false,
   "isInternetEnabled": true,
   "language": "python",
   "sourceType": "notebook"
  },
  "kernelspec": {
   "display_name": "Python 3",
   "language": "python",
   "name": "python3"
  },
  "language_info": {
   "codemirror_mode": {
    "name": "ipython",
    "version": 3
   },
   "file_extension": ".py",
   "mimetype": "text/x-python",
   "name": "python",
   "nbconvert_exporter": "python",
   "pygments_lexer": "ipython3",
   "version": "3.10.12"
  },
  "papermill": {
   "default_parameters": {},
   "duration": 7.004023,
   "end_time": "2023-11-20T09:10:05.854532",
   "environment_variables": {},
   "exception": null,
   "input_path": "__notebook__.ipynb",
   "output_path": "__notebook__.ipynb",
   "parameters": {},
   "start_time": "2023-11-20T09:09:58.850509",
   "version": "2.4.0"
  }
 },
 "nbformat": 4,
 "nbformat_minor": 5
}
